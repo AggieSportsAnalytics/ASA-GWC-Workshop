{
 "cells": [
  {
   "cell_type": "markdown",
   "metadata": {},
   "source": [
    "# Aggie Sports Analytics x Girls Who Code Workshop"
   ]
  },
  {
   "cell_type": "markdown",
   "metadata": {},
   "source": [
    "#### Welcome to our workshop! The main goal of our workshop is to introduce you to the world of sports analytics and data science. We will be using Python and Jupyter Notebooks to analyze data and create visualizations.\n",
    "\n",
    "#### The main datasets we'll be using come from the 2023 NFL Data Bowl. The NFL Data Bowl is a competition where data scientists and sports analysts compete to create the best models and visualizations to predict the outcome of NFL games. Though we aren't competing in the competetion, they provide nice, cleaned datasets for us to use. These datasets cover a wide range of statistics and information about NFL games and players."
   ]
  },
  {
   "cell_type": "markdown",
   "metadata": {},
   "source": [
    "# Setup"
   ]
  },
  {
   "cell_type": "markdown",
   "metadata": {},
   "source": [
    "### These are the libraries we will use in our code. We need to import all of them. Additionally, we need to convert all of our data into code friendly format, pandas dataframes!"
   ]
  },
  {
   "cell_type": "code",
   "execution_count": 39,
   "metadata": {},
   "outputs": [],
   "source": [
    "# Imports\n",
    "import matplotlib.pyplot as plt\n",
    "import seaborn as sns\n",
    "import pandas as pd\n",
    "import numpy as np\n",
    "import plotly.express as px\n",
    "\n",
    "# Read CSVs\n",
    "games_df = pd.read_csv('data/games.csv')\n",
    "players_df = pd.read_csv('data/players.csv')\n",
    "plays_df = pd.read_csv('data/plays.csv')\n",
    "tackles_df = pd.read_csv('data/tackles.csv')"
   ]
  },
  {
   "cell_type": "markdown",
   "metadata": {},
   "source": [
    "# Games"
   ]
  },
  {
   "cell_type": "markdown",
   "metadata": {},
   "source": [
    "### Often times, the performance of NFL teams changes drastically depending on if they are playing in their own stadium or not. Players have cited the home crowd cheering them on as a reason for their improved performance. This is known as the home field advantage. At away games, players are often distracted with the chants and boos of a crowd. As a general rule of thumb, the home team is more favored to win than the away team. However, there are some exceptions to this rule. Some NFL players and teams perform better under pressure, and have better results away. Which teams are these? Let's find out."
   ]
  },
  {
   "cell_type": "code",
   "execution_count": null,
   "metadata": {},
   "outputs": [],
   "source": []
  },
  {
   "cell_type": "markdown",
   "metadata": {},
   "source": [
    "#### Conclusion"
   ]
  },
  {
   "cell_type": "markdown",
   "metadata": {},
   "source": [
    "### NFL Teams often have rough patches and smooth patches in their performance. Their week to week success can fluctuate greatly, whether it be due to injuries, or other factors. However, every NFL coach agrees that it's important they finish out the season strong. Let's try to find out which teams from the NFC West finished the season strong."
   ]
  },
  {
   "cell_type": "code",
   "execution_count": null,
   "metadata": {},
   "outputs": [],
   "source": []
  },
  {
   "cell_type": "markdown",
   "metadata": {},
   "source": [
    "#### Conclusion"
   ]
  },
  {
   "cell_type": "markdown",
   "metadata": {},
   "source": [
    "# Players"
   ]
  },
  {
   "cell_type": "markdown",
   "metadata": {},
   "source": [
    "### The NFL has A LOT of players. Each roster consists of 52 players. Amongst these players, most play different positions. Let's find out which position has the most players in the NFL. Let's also see what percent of the NFL is made up of players who play that position. "
   ]
  },
  {
   "cell_type": "code",
   "execution_count": null,
   "metadata": {},
   "outputs": [],
   "source": []
  },
  {
   "cell_type": "markdown",
   "metadata": {},
   "source": [
    "#### Conclusion"
   ]
  },
  {
   "cell_type": "markdown",
   "metadata": {},
   "source": [
    "### The players NFL come from many different backgrounds. In our dataset, we see what college players come from. Let's find out which college has the most players in the NFL."
   ]
  },
  {
   "cell_type": "code",
   "execution_count": null,
   "metadata": {},
   "outputs": [],
   "source": []
  },
  {
   "cell_type": "markdown",
   "metadata": {},
   "source": [
    "#### Conclusion"
   ]
  },
  {
   "cell_type": "markdown",
   "metadata": {},
   "source": [
    "### Different colleges specialize in producing different talents. This is due to the college's coaching staff, and reputation for developing certain types of players. Let's find out which college has produced which type of player the most."
   ]
  },
  {
   "cell_type": "code",
   "execution_count": null,
   "metadata": {},
   "outputs": [],
   "source": []
  },
  {
   "cell_type": "markdown",
   "metadata": {},
   "source": [
    "#### Sometimes, all the data is too much data. In these scenarios, it best to trim to data, to make it easier to visualize. Data Sceintists must make the choice of which way is the best to way to manipulate the data."
   ]
  },
  {
   "cell_type": "code",
   "execution_count": null,
   "metadata": {},
   "outputs": [],
   "source": []
  },
  {
   "cell_type": "markdown",
   "metadata": {},
   "source": [
    "#### Conclusion"
   ]
  },
  {
   "cell_type": "markdown",
   "metadata": {},
   "source": [
    "# Tackles"
   ]
  },
  {
   "cell_type": "markdown",
   "metadata": {},
   "source": [
    "### Tackles are a very important part of the game of football. They are the last line of defense, and are responsible for stopping the opposing team from scoring. Say we are the general manager of a team with one of the worst defenses in the league. We want to find out which players are the best at tackling, so we can sign them to our team. "
   ]
  },
  {
   "cell_type": "code",
   "execution_count": null,
   "metadata": {},
   "outputs": [],
   "source": []
  },
  {
   "cell_type": "markdown",
   "metadata": {},
   "source": [
    "### From our horizontal bar chart, we can see that ________ has the most tackles in the NFL, followed closely by ________. However, one stat may not always tell the whole story. Oftentimes, players can also assist in tackles, which is also a very important part of the game. Let's find out which players have the most tackles and assists combined. They might be a more well rounded fit for our team."
   ]
  },
  {
   "cell_type": "code",
   "execution_count": null,
   "metadata": {},
   "outputs": [],
   "source": []
  },
  {
   "cell_type": "markdown",
   "metadata": {},
   "source": [
    "#### Conclusion"
   ]
  },
  {
   "cell_type": "markdown",
   "metadata": {},
   "source": [
    "# Plays"
   ]
  },
  {
   "cell_type": "markdown",
   "metadata": {},
   "source": [
    "### Suppose you are a brand new coach in the NFL, and you need some reference of which plays/formations to use and when. Your biggest weakness as a coach is this. You never know when to run the ball, or when to pass the ball on offense. On defense, you don't understand when to blitz, or when to play coverage. Let's create something that can help you understand the big picture."
   ]
  },
  {
   "cell_type": "code",
   "execution_count": null,
   "metadata": {},
   "outputs": [],
   "source": []
  },
  {
   "cell_type": "markdown",
   "metadata": {},
   "source": [
    "#### Let's represent this relationship another way. Let's also add an interactive element to our plot. This way, we can see exactly what plays were run at what down, and what yardage. This way, we can see the big picture, and the small picture at the same time."
   ]
  },
  {
   "cell_type": "code",
   "execution_count": null,
   "metadata": {},
   "outputs": [],
   "source": []
  }
 ],
 "metadata": {
  "kernelspec": {
   "display_name": "base",
   "language": "python",
   "name": "python3"
  },
  "language_info": {
   "codemirror_mode": {
    "name": "ipython",
    "version": 3
   },
   "file_extension": ".py",
   "mimetype": "text/x-python",
   "name": "python",
   "nbconvert_exporter": "python",
   "pygments_lexer": "ipython3",
   "version": "3.11.0"
  }
 },
 "nbformat": 4,
 "nbformat_minor": 2
}
